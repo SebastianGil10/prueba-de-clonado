import matplotlib.pyplot as plt

x = [1, 2, 3, 4]
y = [10, 15, 13, 17]

plt.scatter(x, y)
plt.title("Gráfico de dispersión simple")
plt.xlabel("Eje X")
plt.ylabel("Eje Y")
plt.show()
